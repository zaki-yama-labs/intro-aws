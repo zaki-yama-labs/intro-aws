{
 "cells": [
  {
   "cell_type": "code",
   "execution_count": 4,
   "metadata": {},
   "outputs": [
    {
     "name": "stdout",
     "output_type": "stream",
     "text": [
      "Is CUDA ready? True\n"
     ]
    }
   ],
   "source": [
    "import torch\n",
    "print(\"Is CUDA ready?\", torch.cuda.is_available())"
   ]
  },
  {
   "cell_type": "code",
   "execution_count": 5,
   "metadata": {},
   "outputs": [
    {
     "name": "stdout",
     "output_type": "stream",
     "text": [
      "tensor([[0.2237, 0.7071, 0.6066],\n",
      "        [0.4947, 0.7202, 0.3660],\n",
      "        [0.2304, 0.3357, 0.7004]])\n"
     ]
    }
   ],
   "source": [
    "x = torch.rand(3, 3)\n",
    "print(x)"
   ]
  },
  {
   "cell_type": "code",
   "execution_count": 7,
   "metadata": {},
   "outputs": [
    {
     "name": "stdout",
     "output_type": "stream",
     "text": [
      "tensor([[1.2237, 1.7071, 1.6066],\n",
      "        [1.4947, 1.7202, 1.3660],\n",
      "        [1.2304, 1.3357, 1.7004]], device='cuda:0')\n"
     ]
    }
   ],
   "source": [
    "y = torch.ones_like(x, device=\"cuda\")\n",
    "x = x.to(\"cuda\")\n",
    "\n",
    "z = x + y\n",
    "print(z)"
   ]
  },
  {
   "cell_type": "code",
   "execution_count": 8,
   "metadata": {},
   "outputs": [
    {
     "name": "stdout",
     "output_type": "stream",
     "text": [
      "tensor([[1.2237, 1.7071, 1.6066],\n",
      "        [1.4947, 1.7202, 1.3660],\n",
      "        [1.2304, 1.3357, 1.7004]])\n"
     ]
    }
   ],
   "source": [
    "z = z.to(\"cpu\")\n",
    "print(z)"
   ]
  },
  {
   "cell_type": "code",
   "execution_count": 9,
   "metadata": {},
   "outputs": [
    {
     "name": "stdout",
     "output_type": "stream",
     "text": [
      "CPU times: user 11.2 s, sys: 142 ms, total: 11.3 s\n",
      "Wall time: 6.12 s\n"
     ]
    }
   ],
   "source": [
    "s = 10000\n",
    "device = \"cpu\"\n",
    "x = torch.rand(s, s, device=device, dtype=torch.float32)\n",
    "y = torch.rand(s, s, device=device, dtype=torch.float32)\n",
    "\n",
    "%time z = torch.matmul(x, y)"
   ]
  },
  {
   "cell_type": "code",
   "execution_count": 10,
   "metadata": {},
   "outputs": [
    {
     "name": "stdout",
     "output_type": "stream",
     "text": [
      "CPU times: user 529 ms, sys: 308 ms, total: 837 ms\n",
      "Wall time: 16.7 s\n"
     ]
    }
   ],
   "source": [
    "s = 10000\n",
    "device = \"cuda\"\n",
    "x = torch.rand(s, s, device=device, dtype=torch.float32)\n",
    "y = torch.rand(s, s, device=device, dtype=torch.float32)\n",
    "torch.cuda.synchronize()\n",
    "\n",
    "%time z = torch.matmul(x, y); torch.cuda.synchronize()"
   ]
  },
  {
   "cell_type": "code",
   "execution_count": null,
   "metadata": {},
   "outputs": [],
   "source": []
  }
 ],
 "metadata": {
  "kernelspec": {
   "display_name": "Environment (conda_pytorch_p36)",
   "language": "python",
   "name": "conda_pytorch_p36"
  },
  "language_info": {
   "codemirror_mode": {
    "name": "ipython",
    "version": 3
   },
   "file_extension": ".py",
   "mimetype": "text/x-python",
   "name": "python",
   "nbconvert_exporter": "python",
   "pygments_lexer": "ipython3",
   "version": "3.6.10"
  }
 },
 "nbformat": 4,
 "nbformat_minor": 4
}
