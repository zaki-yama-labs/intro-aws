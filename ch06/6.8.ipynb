{
 "cells": [
  {
   "cell_type": "code",
   "execution_count": 1,
   "metadata": {},
   "outputs": [],
   "source": [
    "import torch\n",
    "import torch.optim as optim\n",
    "import torchvision\n",
    "from torchvision import datasets, transforms\n",
    "from matplotlib import pyplot as plt\n",
    "\n",
    "# custom functions and classes\n",
    "from simple_mnist import Model, train, test"
   ]
  },
  {
   "cell_type": "code",
   "execution_count": 2,
   "metadata": {},
   "outputs": [
    {
     "name": "stdout",
     "output_type": "stream",
     "text": [
      "Downloading http://yann.lecun.com/exdb/mnist/train-images-idx3-ubyte.gz to ./data/MNIST/raw/train-images-idx3-ubyte.gz\n"
     ]
    },
    {
     "data": {
      "application/vnd.jupyter.widget-view+json": {
       "model_id": "b18dd3f086464c88b4c89300c08ab42e",
       "version_major": 2,
       "version_minor": 0
      },
      "text/plain": [
       "HBox(children=(FloatProgress(value=1.0, bar_style='info', max=1.0), HTML(value='')))"
      ]
     },
     "metadata": {},
     "output_type": "display_data"
    },
    {
     "name": "stdout",
     "output_type": "stream",
     "text": [
      "Extracting ./data/MNIST/raw/train-images-idx3-ubyte.gz to ./data/MNIST/raw\n",
      "Downloading http://yann.lecun.com/exdb/mnist/train-labels-idx1-ubyte.gz to ./data/MNIST/raw/train-labels-idx1-ubyte.gz\n"
     ]
    },
    {
     "data": {
      "application/vnd.jupyter.widget-view+json": {
       "model_id": "02d3faaa8cab42bd8530fbbe0f758e0e",
       "version_major": 2,
       "version_minor": 0
      },
      "text/plain": [
       "HBox(children=(FloatProgress(value=1.0, bar_style='info', max=1.0), HTML(value='')))"
      ]
     },
     "metadata": {},
     "output_type": "display_data"
    },
    {
     "name": "stdout",
     "output_type": "stream",
     "text": [
      "Extracting ./data/MNIST/raw/train-labels-idx1-ubyte.gz to ./data/MNIST/raw\n",
      "Downloading http://yann.lecun.com/exdb/mnist/t10k-images-idx3-ubyte.gz to ./data/MNIST/raw/t10k-images-idx3-ubyte.gz\n",
      "\n"
     ]
    },
    {
     "data": {
      "application/vnd.jupyter.widget-view+json": {
       "model_id": "c4d62dfc3afe46c0baeeefce0d869b31",
       "version_major": 2,
       "version_minor": 0
      },
      "text/plain": [
       "HBox(children=(FloatProgress(value=1.0, bar_style='info', max=1.0), HTML(value='')))"
      ]
     },
     "metadata": {},
     "output_type": "display_data"
    },
    {
     "name": "stdout",
     "output_type": "stream",
     "text": [
      "Extracting ./data/MNIST/raw/t10k-images-idx3-ubyte.gz to ./data/MNIST/raw\n",
      "Downloading http://yann.lecun.com/exdb/mnist/t10k-labels-idx1-ubyte.gz to ./data/MNIST/raw/t10k-labels-idx1-ubyte.gz\n"
     ]
    },
    {
     "data": {
      "application/vnd.jupyter.widget-view+json": {
       "model_id": "cbefad12bbfe40efbe90750dbab6d8b5",
       "version_major": 2,
       "version_minor": 0
      },
      "text/plain": [
       "HBox(children=(FloatProgress(value=1.0, bar_style='info', max=1.0), HTML(value='')))"
      ]
     },
     "metadata": {},
     "output_type": "display_data"
    },
    {
     "name": "stdout",
     "output_type": "stream",
     "text": [
      "Extracting ./data/MNIST/raw/t10k-labels-idx1-ubyte.gz to ./data/MNIST/raw\n",
      "Processing...\n",
      "Done!\n"
     ]
    }
   ],
   "source": [
    "transf = transforms.Compose([transforms.ToTensor(),\n",
    "                                                      transforms.Normalize((0.1307,), (0.3081, ))])\n",
    "\n",
    "trainset = datasets.MNIST(root='./data', train=True, download=True, transform=transf)\n",
    "trainloader = torch.utils.data.DataLoader(trainset, batch_size=64, shuffle=True)\n",
    "\n",
    "testset = datasets.MNIST(root='./data', train=False, download=True, transform=transf)\n",
    "testloader = torch.utils.data.DataLoader(trainset, batch_size=1000, shuffle=True)"
   ]
  },
  {
   "cell_type": "code",
   "execution_count": 4,
   "metadata": {},
   "outputs": [
    {
     "name": "stdout",
     "output_type": "stream",
     "text": [
      "Example data size: torch.Size([1000, 1, 28, 28])\n"
     ]
    },
    {
     "data": {
      "image/png": "[encoded data removed]",
      "text/plain": [
       "<Figure size 720x288 with 10 Axes>"
      ]
     },
     "metadata": {},
     "output_type": "display_data"
    }
   ],
   "source": [
    "examples = iter(testloader)\n",
    "example_data, example_targets = examples.next()\n",
    "\n",
    "print(\"Example data size:\", example_data.shape)\n",
    "\n",
    "fig = plt.figure(figsize=(10,4))\n",
    "for i in range(10):\n",
    "    plt.subplot(2,5,i+1)\n",
    "    plt.tight_layout()\n",
    "    plt.imshow(example_data[i][0], cmap='gray', interpolation='none')\n",
    "    plt.title(\"Ground Truth: {}\".format(example_targets[i]))\n",
    "    plt.xticks([])\n",
    "    plt.yticks([])\n",
    "plt.show()"
   ]
  },
  {
   "cell_type": "code",
   "execution_count": 5,
   "metadata": {},
   "outputs": [
    {
     "data": {
      "text/plain": [
       "Model(\n",
       "  (conv1): Conv2d(1, 32, kernel_size=(3, 3), stride=(1, 1))\n",
       "  (conv2): Conv2d(32, 64, kernel_size=(3, 3), stride=(1, 1))\n",
       "  (dropout1): Dropout2d(p=0.25, inplace=False)\n",
       "  (dropout2): Dropout2d(p=0.5, inplace=False)\n",
       "  (fc1): Linear(in_features=9216, out_features=128, bias=True)\n",
       "  (fc2): Linear(in_features=128, out_features=10, bias=True)\n",
       ")"
      ]
     },
     "execution_count": 5,
     "metadata": {},
     "output_type": "execute_result"
    }
   ],
   "source": [
    "model = Model()\n",
    "model.to(\"cuda\")"
   ]
  },
  {
   "cell_type": "code",
   "execution_count": 6,
   "metadata": {},
   "outputs": [],
   "source": [
    "optimizer = optim.SGD(model.parameters(), lr=0.01, momentum=0.5)"
   ]
  },
  {
   "cell_type": "code",
   "execution_count": null,
   "metadata": {},
   "outputs": [
    {
     "name": "stdout",
     "output_type": "stream",
     "text": [
      "Train Epoch: 0 [0/60000 (0%)]\tLoss: 2.324611\n",
      "Train Epoch: 0 [6400/60000 (11%)]\tLoss: 0.769588\n",
      "Train Epoch: 0 [12800/60000 (21%)]\tLoss: 0.724384\n",
      "Train Epoch: 0 [19200/60000 (32%)]\tLoss: 0.338636\n",
      "Train Epoch: 0 [25600/60000 (43%)]\tLoss: 0.208863\n",
      "Train Epoch: 0 [32000/60000 (53%)]\tLoss: 0.488061\n",
      "Train Epoch: 0 [38400/60000 (64%)]\tLoss: 0.480668\n",
      "Train Epoch: 0 [44800/60000 (75%)]\tLoss: 0.467848\n",
      "Train Epoch: 0 [51200/60000 (85%)]\tLoss: 0.321185\n",
      "Train Epoch: 0 [57600/60000 (96%)]\tLoss: 0.296107\n",
      "\n",
      "Test set: Average loss: 0.1687, Accuracy: 57041/60000 (95%)\n",
      "\n",
      "Train Epoch: 1 [0/60000 (0%)]\tLoss: 0.200723\n",
      "Train Epoch: 1 [6400/60000 (11%)]\tLoss: 0.312415\n",
      "Train Epoch: 1 [12800/60000 (21%)]\tLoss: 0.347594\n",
      "Train Epoch: 1 [19200/60000 (32%)]\tLoss: 0.215927\n",
      "Train Epoch: 1 [25600/60000 (43%)]\tLoss: 0.210938\n",
      "Train Epoch: 1 [32000/60000 (53%)]\tLoss: 0.381126\n",
      "Train Epoch: 1 [38400/60000 (64%)]\tLoss: 0.131165\n",
      "Train Epoch: 1 [44800/60000 (75%)]\tLoss: 0.122079\n",
      "Train Epoch: 1 [51200/60000 (85%)]\tLoss: 0.135259\n",
      "Train Epoch: 1 [57600/60000 (96%)]\tLoss: 0.199865\n",
      "\n",
      "Test set: Average loss: 0.1002, Accuracy: 58247/60000 (97%)\n",
      "\n",
      "Train Epoch: 2 [0/60000 (0%)]\tLoss: 0.354253\n",
      "Train Epoch: 2 [6400/60000 (11%)]\tLoss: 0.128939\n",
      "Train Epoch: 2 [12800/60000 (21%)]\tLoss: 0.301835\n",
      "Train Epoch: 2 [19200/60000 (32%)]\tLoss: 0.080475\n",
      "Train Epoch: 2 [25600/60000 (43%)]\tLoss: 0.165122\n",
      "Train Epoch: 2 [32000/60000 (53%)]\tLoss: 0.091702\n",
      "Train Epoch: 2 [38400/60000 (64%)]\tLoss: 0.114387\n",
      "Train Epoch: 2 [44800/60000 (75%)]\tLoss: 0.112361\n",
      "Train Epoch: 2 [51200/60000 (85%)]\tLoss: 0.126245\n",
      "Train Epoch: 2 [57600/60000 (96%)]\tLoss: 0.206754\n",
      "\n",
      "Test set: Average loss: 0.0663, Accuracy: 58816/60000 (98%)\n",
      "\n",
      "Train Epoch: 3 [0/60000 (0%)]\tLoss: 0.057401\n",
      "Train Epoch: 3 [6400/60000 (11%)]\tLoss: 0.237820\n",
      "Train Epoch: 3 [12800/60000 (21%)]\tLoss: 0.145193\n",
      "Train Epoch: 3 [19200/60000 (32%)]\tLoss: 0.210279\n",
      "Train Epoch: 3 [25600/60000 (43%)]\tLoss: 0.079146\n",
      "Train Epoch: 3 [32000/60000 (53%)]\tLoss: 0.303530\n",
      "Train Epoch: 3 [38400/60000 (64%)]\tLoss: 0.120951\n",
      "Train Epoch: 3 [44800/60000 (75%)]\tLoss: 0.063082\n",
      "Train Epoch: 3 [51200/60000 (85%)]\tLoss: 0.029496\n",
      "Train Epoch: 3 [57600/60000 (96%)]\tLoss: 0.119611\n",
      "\n",
      "Test set: Average loss: 0.0537, Accuracy: 59055/60000 (98%)\n",
      "\n",
      "Train Epoch: 4 [0/60000 (0%)]\tLoss: 0.090357\n",
      "Train Epoch: 4 [6400/60000 (11%)]\tLoss: 0.111077\n",
      "Train Epoch: 4 [12800/60000 (21%)]\tLoss: 0.076450\n",
      "Train Epoch: 4 [19200/60000 (32%)]\tLoss: 0.152565\n",
      "Train Epoch: 4 [25600/60000 (43%)]\tLoss: 0.049241\n",
      "Train Epoch: 4 [32000/60000 (53%)]\tLoss: 0.049521\n",
      "Train Epoch: 4 [38400/60000 (64%)]\tLoss: 0.090044\n",
      "Train Epoch: 4 [44800/60000 (75%)]\tLoss: 0.082248\n",
      "Train Epoch: 4 [51200/60000 (85%)]\tLoss: 0.049047\n",
      "Train Epoch: 4 [57600/60000 (96%)]\tLoss: 0.122838\n"
     ]
    }
   ],
   "source": [
    "train_losses = []\n",
    "for epoch in range(5):\n",
    "    losses = train(model, trainloader, optimizer, epoch)\n",
    "    train_losses = train_losses + losses\n",
    "    test(model, testloader)\n",
    "\n",
    "plt.figure(figsize=(7,5))\n",
    "plt.plot(train_losses)\n",
    "plt.xlabel(\"Iterations\")\n",
    "plt.ylabel(\"Train loss\")"
   ]
  },
  {
   "cell_type": "code",
   "execution_count": null,
   "metadata": {},
   "outputs": [],
   "source": [
    "model.eval()\n",
    "\n",
    "with torch.no_grad():\n",
    "    output = model(example_data.to(\"cuda\"))\n",
    "\n",
    "fig = plt.figure(figsize=(10,4))\n",
    "for i in range(10):\n",
    "    plt.subplot(2,5,i+1)\n",
    "    plt.tight_layout()\n",
    "    plt.imshow(example_data[i][0], cmap='gray', interpolation='none')\n",
    "    plt.title(\"Prediction: {}\".format(output.data.max(1, keepdim=True)[1][i].item()))\n",
    "    plt.xticks([])\n",
    "    plt.yticks([])\n",
    "plt.show()"
   ]
  },
  {
   "cell_type": "code",
   "execution_count": null,
   "metadata": {},
   "outputs": [],
   "source": []
  }
 ],
 "metadata": {
  "kernelspec": {
   "display_name": "Environment (conda_pytorch_p36)",
   "language": "python",
   "name": "conda_pytorch_p36"
  },
  "language_info": {
   "codemirror_mode": {
    "name": "ipython",
    "version": 3
   },
   "file_extension": ".py",
   "mimetype": "text/x-python",
   "name": "python",
   "nbconvert_exporter": "python",
   "pygments_lexer": "ipython3",
   "version": "3.6.10"
  }
 },
 "nbformat": 4,
 "nbformat_minor": 4
}
